{
 "cells": [
  {
   "cell_type": "code",
   "execution_count": 1,
   "metadata": {},
   "outputs": [],
   "source": [
    "import selenium\n",
    "from selenium import webdriver\n",
    "import numpy as np\n",
    "import pandas as pd\n",
    "import matplotlib.pyplot as plt"
   ]
  },
  {
   "cell_type": "markdown",
   "metadata": {},
   "source": [
    "# Téléchargement de la base de données via WebScrapping"
   ]
  },
  {
   "cell_type": "code",
   "execution_count": 6,
   "metadata": {},
   "outputs": [],
   "source": [
    "driver = webdriver.Chrome(executable_path=\"./chromedriver\")\n",
    "\n",
    "url = \"https://archive.ics.uci.edu/ml/datasets/Parkinson+Speech+Dataset+with++Multiple+Types+of+Sound+Recordings#\"\n",
    "driver.get(url)"
   ]
  },
  {
   "cell_type": "code",
   "execution_count": 7,
   "metadata": {},
   "outputs": [],
   "source": [
    "# Télécharger le dataset\n",
    "driver.find_element_by_link_text('Data Folder').click()\n",
    "xpath = '/html/body/table/tbody/tr[4]/td[2]/a'\n",
    "driver.find_element_by_xpath(xpath).click()"
   ]
  },
  {
   "cell_type": "markdown",
   "metadata": {},
   "source": [
    "# Importer la base de données"
   ]
  },
  {
   "cell_type": "code",
   "execution_count": null,
   "metadata": {},
   "outputs": [],
   "source": []
  },
  {
   "cell_type": "code",
   "execution_count": 43,
   "metadata": {},
   "outputs": [],
   "source": [
    "#Ajout header car il n'y avait pas le nom des colonnes\n",
    " \n",
    "df_train = pd.read_csv ('train_data.txt', delimiter=\",\", header=0, index_col = [0], \n",
    "                        names=['id',\n",
    "                               'Jitter(local)','Jitter (local, absolute)','Jitter (rap)','Jitter (ppq5)','Jitter (ddp)',\n",
    "                               'Shimmer (local)','Shimmer (local, dB)','Shimmer (apq3)','Shimmer (apq5)', 'Shimmer (apq11)','Shimmer (dda)', \n",
    "                               'AC','NTH','HTN', \n",
    "                               'Median pitch','Mean pitch','Standard deviation','Minimum pitch','Maximum pitch',\n",
    "                               'Number of pulses','Number of periods','Mean period','Standard deviation of period',\n",
    "                               'Fraction of locally unvoiced frames','Number of voice breaks','Degree of voice breaks',\n",
    "                               'UPDRS', \n",
    "                               'class information']) \n",
    "  \n",
    "#df_train.head()\n",
    "\n",
    "df_test = pd.read_csv ('test_data.txt', delimiter=\",\", header=0, index_col = [0], \n",
    "                        names=['id',\n",
    "                               'Jitter(local)','Jitter (local, absolute)','Jitter (rap)','Jitter (ppq5)','Jitter (ddp)',\n",
    "                               'Shimmer (local)','Shimmer (local, dB)','Shimmer (apq3)','Shimmer (apq5)', 'Shimmer (apq11)','Shimmer (dda)', \n",
    "                               'AC','NTH','HTN', \n",
    "                               'Median pitch','Mean pitch','Standard deviation','Minimum pitch','Maximum pitch',\n",
    "                               'Number of pulses','Number of periods','Mean period','Standard deviation of period',\n",
    "                               'Fraction of locally unvoiced frames','Number of voice breaks','Degree of voice breaks',\n",
    "                               'class information']) \n",
    "\n",
    "\n",
    "\n"
   ]
  },
  {
   "cell_type": "code",
   "execution_count": 42,
   "metadata": {},
   "outputs": [],
   "source": [
    "\n"
   ]
  },
  {
   "cell_type": "code",
   "execution_count": null,
   "metadata": {},
   "outputs": [],
   "source": []
  }
 ],
 "metadata": {
  "kernelspec": {
   "display_name": "Python 3",
   "language": "python",
   "name": "python3"
  },
  "language_info": {
   "codemirror_mode": {
    "name": "ipython",
    "version": 3
   },
   "file_extension": ".py",
   "mimetype": "text/x-python",
   "name": "python",
   "nbconvert_exporter": "python",
   "pygments_lexer": "ipython3",
   "version": "3.7.0"
  }
 },
 "nbformat": 4,
 "nbformat_minor": 2
}
